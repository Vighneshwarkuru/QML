{
 "cells": [
  {
   "cell_type": "code",
   "execution_count": 1,
   "id": "99b51f40",
   "metadata": {},
   "outputs": [
    {
     "name": "stdout",
     "output_type": "stream",
     "text": [
      "Requirement already satisfied: pennylane in /home/vighneshwarkuru/.conda/envs/QML/lib/python3.13/site-packages (0.41.1)\n",
      "Requirement already satisfied: scikit-learn in /home/vighneshwarkuru/.conda/envs/QML/lib/python3.13/site-packages (1.7.0)\n",
      "Requirement already satisfied: pandas in /home/vighneshwarkuru/.conda/envs/QML/lib/python3.13/site-packages (2.3.0)\n",
      "Requirement already satisfied: matplotlib in /home/vighneshwarkuru/.conda/envs/QML/lib/python3.13/site-packages (3.10.3)\n",
      "Requirement already satisfied: numpy in /home/vighneshwarkuru/.conda/envs/QML/lib/python3.13/site-packages (from pennylane) (2.3.1)\n",
      "Requirement already satisfied: scipy in /home/vighneshwarkuru/.conda/envs/QML/lib/python3.13/site-packages (from pennylane) (1.16.0)\n",
      "Requirement already satisfied: networkx in /home/vighneshwarkuru/.conda/envs/QML/lib/python3.13/site-packages (from pennylane) (3.5)\n",
      "Requirement already satisfied: rustworkx>=0.14.0 in /home/vighneshwarkuru/.conda/envs/QML/lib/python3.13/site-packages (from pennylane) (0.16.0)\n",
      "Requirement already satisfied: autograd in /home/vighneshwarkuru/.conda/envs/QML/lib/python3.13/site-packages (from pennylane) (1.8.0)\n",
      "Requirement already satisfied: tomlkit in /home/vighneshwarkuru/.conda/envs/QML/lib/python3.13/site-packages (from pennylane) (0.13.3)\n",
      "Requirement already satisfied: appdirs in /home/vighneshwarkuru/.conda/envs/QML/lib/python3.13/site-packages (from pennylane) (1.4.4)\n",
      "Requirement already satisfied: autoray>=0.6.11 in /home/vighneshwarkuru/.conda/envs/QML/lib/python3.13/site-packages (from pennylane) (0.7.1)\n",
      "Requirement already satisfied: cachetools in /home/vighneshwarkuru/.conda/envs/QML/lib/python3.13/site-packages (from pennylane) (6.1.0)\n",
      "Requirement already satisfied: pennylane-lightning>=0.41 in /home/vighneshwarkuru/.conda/envs/QML/lib/python3.13/site-packages (from pennylane) (0.41.1)\n",
      "Requirement already satisfied: requests in /home/vighneshwarkuru/.conda/envs/QML/lib/python3.13/site-packages (from pennylane) (2.32.4)\n",
      "Requirement already satisfied: typing-extensions in /home/vighneshwarkuru/.conda/envs/QML/lib/python3.13/site-packages (from pennylane) (4.14.0)\n",
      "Requirement already satisfied: packaging in /home/vighneshwarkuru/.conda/envs/QML/lib/python3.13/site-packages (from pennylane) (25.0)\n",
      "Requirement already satisfied: diastatic-malt in /home/vighneshwarkuru/.conda/envs/QML/lib/python3.13/site-packages (from pennylane) (2.15.2)\n",
      "Requirement already satisfied: joblib>=1.2.0 in /home/vighneshwarkuru/.conda/envs/QML/lib/python3.13/site-packages (from scikit-learn) (1.5.1)\n",
      "Requirement already satisfied: threadpoolctl>=3.1.0 in /home/vighneshwarkuru/.conda/envs/QML/lib/python3.13/site-packages (from scikit-learn) (3.6.0)\n",
      "Requirement already satisfied: python-dateutil>=2.8.2 in /home/vighneshwarkuru/.conda/envs/QML/lib/python3.13/site-packages (from pandas) (2.9.0.post0)\n",
      "Requirement already satisfied: pytz>=2020.1 in /home/vighneshwarkuru/.conda/envs/QML/lib/python3.13/site-packages (from pandas) (2025.2)\n",
      "Requirement already satisfied: tzdata>=2022.7 in /home/vighneshwarkuru/.conda/envs/QML/lib/python3.13/site-packages (from pandas) (2025.2)\n",
      "Requirement already satisfied: contourpy>=1.0.1 in /home/vighneshwarkuru/.conda/envs/QML/lib/python3.13/site-packages (from matplotlib) (1.3.2)\n",
      "Requirement already satisfied: cycler>=0.10 in /home/vighneshwarkuru/.conda/envs/QML/lib/python3.13/site-packages (from matplotlib) (0.12.1)\n",
      "Requirement already satisfied: fonttools>=4.22.0 in /home/vighneshwarkuru/.conda/envs/QML/lib/python3.13/site-packages (from matplotlib) (4.58.4)\n",
      "Requirement already satisfied: kiwisolver>=1.3.1 in /home/vighneshwarkuru/.conda/envs/QML/lib/python3.13/site-packages (from matplotlib) (1.4.8)\n",
      "Requirement already satisfied: pillow>=8 in /home/vighneshwarkuru/.conda/envs/QML/lib/python3.13/site-packages (from matplotlib) (11.2.1)\n",
      "Requirement already satisfied: pyparsing>=2.3.1 in /home/vighneshwarkuru/.conda/envs/QML/lib/python3.13/site-packages (from matplotlib) (3.2.3)\n",
      "Requirement already satisfied: scipy-openblas32>=0.3.26 in /home/vighneshwarkuru/.conda/envs/QML/lib/python3.13/site-packages (from pennylane-lightning>=0.41->pennylane) (0.3.30.0.0)\n",
      "Requirement already satisfied: six>=1.5 in /home/vighneshwarkuru/.conda/envs/QML/lib/python3.13/site-packages (from python-dateutil>=2.8.2->pandas) (1.17.0)\n",
      "Requirement already satisfied: astunparse in /home/vighneshwarkuru/.conda/envs/QML/lib/python3.13/site-packages (from diastatic-malt->pennylane) (1.6.3)\n",
      "Requirement already satisfied: gast in /home/vighneshwarkuru/.conda/envs/QML/lib/python3.13/site-packages (from diastatic-malt->pennylane) (0.6.0)\n",
      "Requirement already satisfied: termcolor in /home/vighneshwarkuru/.conda/envs/QML/lib/python3.13/site-packages (from diastatic-malt->pennylane) (3.1.0)\n",
      "Requirement already satisfied: wheel<1.0,>=0.23.0 in /home/vighneshwarkuru/.conda/envs/QML/lib/python3.13/site-packages (from astunparse->diastatic-malt->pennylane) (0.45.1)\n",
      "Requirement already satisfied: charset_normalizer<4,>=2 in /home/vighneshwarkuru/.conda/envs/QML/lib/python3.13/site-packages (from requests->pennylane) (3.4.2)\n",
      "Requirement already satisfied: idna<4,>=2.5 in /home/vighneshwarkuru/.conda/envs/QML/lib/python3.13/site-packages (from requests->pennylane) (3.10)\n",
      "Requirement already satisfied: urllib3<3,>=1.21.1 in /home/vighneshwarkuru/.conda/envs/QML/lib/python3.13/site-packages (from requests->pennylane) (2.5.0)\n",
      "Requirement already satisfied: certifi>=2017.4.17 in /home/vighneshwarkuru/.conda/envs/QML/lib/python3.13/site-packages (from requests->pennylane) (2025.6.15)\n"
     ]
    }
   ],
   "source": [
    "!pip install pennylane scikit-learn pandas matplotlib"
   ]
  },
  {
   "cell_type": "code",
   "execution_count": 2,
   "id": "313bf091",
   "metadata": {},
   "outputs": [],
   "source": [
    "import numpy as np\n",
    "import pandas as pd\n",
    "import matplotlib.pyplot as plt\n",
    "\n",
    "from sklearn.datasets import load_breast_cancer\n",
    "from sklearn.preprocessing import StandardScaler\n",
    "from sklearn.decomposition import PCA\n",
    "from sklearn.model_selection import train_test_split\n",
    "from sklearn.metrics import accuracy_score\n",
    "\n",
    "import pennylane as qml\n",
    "from pennylane import numpy as npq"
   ]
  },
  {
   "cell_type": "code",
   "execution_count": 5,
   "id": "6c8ed9bb",
   "metadata": {},
   "outputs": [],
   "source": [
    "data = load_breast_cancer()\n",
    "df = pd.DataFrame(data.data, columns=data.feature_names)\n",
    "df['target'] = data.target\n",
    "\n",
    "X = df.drop(columns=['target']).values\n",
    "y = df['target'].values\n",
    "\n",
    "scaler = StandardScaler()\n",
    "X_scaled = scaler.fit_transform(X)\n",
    "\n",
    "pca = PCA(n_components=4)\n",
    "X_pca = pca.fit_transform(X_scaled)\n",
    "\n",
    "X_norm = np.array([x / np.linalg.norm(x) for x in X_pca])\n",
    "X_train, X_test, y_train, y_test = train_test_split(X_norm, y, test_size=0.2, random_state=42)"
   ]
  },
  {
   "cell_type": "code",
   "execution_count": 6,
   "id": "5abd6b27",
   "metadata": {},
   "outputs": [],
   "source": [
    "n_qubits = 2\n",
    "dev = qml.device(\"default.qubit\", wires=n_qubits)\n",
    "\n",
    "@qml.qnode(dev)\n",
    "def circuit(x, weights):\n",
    "    qml.AmplitudeEmbedding(x, wires=range(n_qubits), normalize=True)\n",
    "    qml.Rot(*weights[0], wires=0)\n",
    "    qml.Rot(*weights[1], wires=1)\n",
    "    qml.CNOT(wires=[0, 1])\n",
    "    return qml.expval(qml.PauliZ(0))\n",
    "\n",
    "def quantum_model(x, weights):\n",
    "    return circuit(x, weights)"
   ]
  },
  {
   "cell_type": "code",
   "execution_count": 7,
   "id": "629563a5",
   "metadata": {},
   "outputs": [],
   "source": [
    "def compute_loss(weights, X, y):\n",
    "    preds = npq.array([quantum_model(x, weights) for x in X])\n",
    "    preds = (preds + 1) / 2\n",
    "    return np.mean((preds - y) ** 2)\n",
    "\n",
    "def predict(X, weights):\n",
    "    preds = npq.array([quantum_model(x, weights) for x in X])\n",
    "    preds = (preds + 1) / 2\n",
    "    return (preds > 0.5).astype(int)"
   ]
  },
  {
   "cell_type": "code",
   "execution_count": 10,
   "id": "1e8e149b",
   "metadata": {},
   "outputs": [
    {
     "name": "stdout",
     "output_type": "stream",
     "text": [
      "Epoch 01 | Loss: 0.3092\n",
      "Epoch 02 | Loss: 0.3088\n",
      "Epoch 03 | Loss: 0.3082\n",
      "Epoch 04 | Loss: 0.3072\n",
      "Epoch 05 | Loss: 0.3060\n",
      "Epoch 06 | Loss: 0.3044\n",
      "Epoch 07 | Loss: 0.3024\n",
      "Epoch 08 | Loss: 0.3000\n",
      "Epoch 09 | Loss: 0.2972\n",
      "Epoch 10 | Loss: 0.2939\n",
      "Epoch 11 | Loss: 0.2906\n",
      "Epoch 12 | Loss: 0.2873\n",
      "Epoch 13 | Loss: 0.2844\n",
      "Epoch 14 | Loss: 0.2824\n",
      "Epoch 15 | Loss: 0.2813\n",
      "Epoch 16 | Loss: 0.2812\n",
      "Epoch 17 | Loss: 0.2817\n",
      "Epoch 18 | Loss: 0.2825\n",
      "Epoch 19 | Loss: 0.2833\n",
      "Epoch 20 | Loss: 0.2839\n"
     ]
    }
   ],
   "source": [
    "from pennylane.optimize import NesterovMomentumOptimizer\n",
    "\n",
    "# Initialize weights\n",
    "weights = 0.01 * npq.random.randn(2, 3)\n",
    "\n",
    "# Optimizer\n",
    "opt = NesterovMomentumOptimizer(stepsize=0.5)\n",
    "\n",
    "# Training settings\n",
    "epochs = 20\n",
    "losses = []\n",
    "\n",
    "# Fixed loss function using npq.sum instead of np.mean\n",
    "def compute_loss(weights, X, y):\n",
    "    preds = npq.array([quantum_model(x, weights) for x in X])\n",
    "    preds = (preds + 1) / 2  # map from [-1, 1] to [0, 1]\n",
    "    errors = (preds - y) ** 2\n",
    "    return npq.sum(errors) / len(errors)\n",
    "\n",
    "# Training loop\n",
    "for epoch in range(epochs):\n",
    "    weights, loss = opt.step_and_cost(lambda w: compute_loss(w, X_train, y_train), weights)\n",
    "    losses.append(loss)\n",
    "    print(f\"Epoch {epoch+1:02d} | Loss: {loss:.4f}\")\n"
   ]
  },
  {
   "cell_type": "code",
   "execution_count": 11,
   "id": "9f207c50",
   "metadata": {},
   "outputs": [
    {
     "name": "stdout",
     "output_type": "stream",
     "text": [
      "\n",
      "Test Accuracy: 0.5263\n"
     ]
    }
   ],
   "source": [
    "y_pred = predict(X_test, weights)\n",
    "acc = accuracy_score(y_test, y_pred)\n",
    "print(f\"\\nTest Accuracy: {acc:.4f}\")"
   ]
  },
  {
   "cell_type": "code",
   "execution_count": 12,
   "id": "d76dc3ad",
   "metadata": {},
   "outputs": [
    {
     "data": {
      "image/png": "[encoded data removed]",
      "text/plain": [
       "<Figure size 640x480 with 1 Axes>"
      ]
     },
     "metadata": {},
     "output_type": "display_data"
    }
   ],
   "source": [
    "plt.plot(range(1, epochs + 1), losses, marker='o')\n",
    "plt.xlabel(\"Epoch\")\n",
    "plt.ylabel(\"Loss\")\n",
    "plt.title(\"Training Loss (Amplitude Encoding)\")\n",
    "plt.grid(True)\n",
    "plt.show()"
   ]
  },
  {
   "cell_type": "code",
   "execution_count": null,
   "id": "555ef875-174f-44e0-a390-ddc666370e0e",
   "metadata": {},
   "outputs": [],
   "source": []
  }
 ],
 "metadata": {
  "kernelspec": {
   "display_name": "Python 3 (ipykernel)",
   "language": "python",
   "name": "python3"
  },
  "language_info": {
   "codemirror_mode": {
    "name": "ipython",
    "version": 3
   },
   "file_extension": ".py",
   "mimetype": "text/x-python",
   "name": "python",
   "nbconvert_exporter": "python",
   "pygments_lexer": "ipython3",
   "version": "3.13.5"
  }
 },
 "nbformat": 4,
 "nbformat_minor": 5
}
