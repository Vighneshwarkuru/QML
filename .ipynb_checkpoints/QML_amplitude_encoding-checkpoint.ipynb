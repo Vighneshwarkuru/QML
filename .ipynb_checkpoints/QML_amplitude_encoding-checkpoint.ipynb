{
 "cells": [
  {
   "cell_type": "code",
   "execution_count": null,
   "id": "99b51f40",
   "metadata": {},
   "outputs": [],
   "source": [
    "!pip install pennylane scikit-learn pandas matplotlib"
   ]
  },
  {
   "cell_type": "code",
   "execution_count": null,
   "id": "313bf091",
   "metadata": {},
   "outputs": [],
   "source": [
    "import numpy as np\n",
    "import pandas as pd\n",
    "import matplotlib.pyplot as plt\n",
    "\n",
    "from sklearn.datasets import load_breast_cancer\n",
    "from sklearn.preprocessing import StandardScaler\n",
    "from sklearn.decomposition import PCA\n",
    "from sklearn.model_selection import train_test_split\n",
    "from sklearn.metrics import accuracy_score\n",
    "\n",
    "import pennylane as qml\n",
    "from pennylane import numpy as npq"
   ]
  },
  {
   "cell_type": "code",
   "execution_count": null,
   "id": "6c8ed9bb",
   "metadata": {},
   "outputs": [],
   "source": [
    "data = load_breast_cancer()\n",
    "df = pd.DataFrame(data.data, columns=data.feature_names)\n",
    "df['target'] = data.target\n",
    "\n",
    "X = df.drop(columns=['target']).values\n",
    "y = df['target'].values\n",
    "\n",
    "scaler = StandardScaler()\n",
    "X_scaled = scaler.fit_transform(X)\n",
    "\n",
    "pca = PCA(n_components=4)\n",
    "X_pca = pca.fit_transform(X_scaled)\n",
    "\n",
    "X_norm = np.array([x / np.linalg.norm(x) for x in X_pca])\n",
    "X_train, X_test, y_train, y_test = train_test_split(X_norm, y, test_size=0.2, random_state=42)"
   ]
  },
  {
   "cell_type": "code",
   "execution_count": null,
   "id": "5abd6b27",
   "metadata": {},
   "outputs": [],
   "source": [
    "n_qubits = 2\n",
    "dev = qml.device(\"default.qubit\", wires=n_qubits)\n",
    "\n",
    "@qml.qnode(dev)\n",
    "def circuit(x, weights):\n",
    "    qml.AmplitudeEmbedding(x, wires=range(n_qubits), normalize=True)\n",
    "    qml.Rot(*weights[0], wires=0)\n",
    "    qml.Rot(*weights[1], wires=1)\n",
    "    qml.CNOT(wires=[0, 1])\n",
    "    return qml.expval(qml.PauliZ(0))\n",
    "\n",
    "def quantum_model(x, weights):\n",
    "    return circuit(x, weights)"
   ]
  },
  {
   "cell_type": "code",
   "execution_count": null,
   "id": "629563a5",
   "metadata": {},
   "outputs": [],
   "source": [
    "def compute_loss(weights, X, y):\n",
    "    preds = npq.array([quantum_model(x, weights) for x in X])\n",
    "    preds = (preds + 1) / 2\n",
    "    return np.mean((preds - y) ** 2)\n",
    "\n",
    "def predict(X, weights):\n",
    "    preds = npq.array([quantum_model(x, weights) for x in X])\n",
    "    preds = (preds + 1) / 2\n",
    "    return (preds > 0.5).astype(int)"
   ]
  },
  {
   "cell_type": "code",
   "execution_count": null,
   "id": "1e8e149b",
   "metadata": {},
   "outputs": [],
   "source": [
    "from pennylane.optimize import NesterovMomentumOptimizer\n",
    "\n",
    "weights = 0.01 * npq.random.randn(2, 3)\n",
    "opt = NesterovMomentumOptimizer(stepsize=0.5)\n",
    "\n",
    "epochs = 20\n",
    "losses = []\n",
    "\n",
    "for epoch in range(epochs):\n",
    "    weights, loss = opt.step_and_cost(lambda w: compute_loss(w, X_train, y_train), weights)\n",
    "    losses.append(loss)\n",
    "    print(f\"Epoch {epoch+1:02d} | Loss: {loss:.4f}\")"
   ]
  },
  {
   "cell_type": "code",
   "execution_count": null,
   "id": "9f207c50",
   "metadata": {},
   "outputs": [],
   "source": [
    "y_pred = predict(X_test, weights)\n",
    "acc = accuracy_score(y_test, y_pred)\n",
    "print(f\"\\nTest Accuracy: {acc:.4f}\")"
   ]
  },
  {
   "cell_type": "code",
   "execution_count": null,
   "id": "d76dc3ad",
   "metadata": {},
   "outputs": [],
   "source": [
    "plt.plot(range(1, epochs + 1), losses, marker='o')\n",
    "plt.xlabel(\"Epoch\")\n",
    "plt.ylabel(\"Loss\")\n",
    "plt.title(\"Training Loss (Amplitude Encoding)\")\n",
    "plt.grid(True)\n",
    "plt.show()"
   ]
  }
 ],
 "metadata": {},
 "nbformat": 4,
 "nbformat_minor": 5
}
